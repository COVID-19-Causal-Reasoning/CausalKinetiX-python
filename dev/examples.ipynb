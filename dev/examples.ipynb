{
 "cells": [
  {
   "cell_type": "code",
   "execution_count": 1,
   "metadata": {
    "scrolled": false
   },
   "outputs": [
    {
     "name": "stdout",
     "output_type": "stream",
     "text": [
      "/home/kei/Desktop/CausalKinetiX-Python/dev\r\n"
     ]
    }
   ],
   "source": [
    "!pwd"
   ]
  },
  {
   "cell_type": "code",
   "execution_count": 2,
   "metadata": {
    "scrolled": false
   },
   "outputs": [],
   "source": [
    "import numbers\n",
    "import numpy as np\n",
    "from matplotlib import pyplot as plt\n",
    "import os\n",
    "os.chdir(\"/home/kei/Desktop/CausalKinetiX-Python/\")\n",
    "from CausalKinetiX import CausalKinetiX\n",
    "from CausalKinetiX.CausalKinetiX_modelranking import CausalKinetiX_modelranking\n",
    "from CausalKinetiX.constrained_smoothspline import constrained_smoothspline\n",
    "from CausalKinetiX.generate_data_targetmodel import generate_data_targetmodel\n",
    "from CausalKinetiX.generate_data_maillard import generate_data_maillard\n",
    "from CausalKinetiX.generate_data_hidden import generate_data_hidden\n",
    "from CausalKinetiX.ode_solver import ode_solver\n",
    "from CausalKinetiX.utils import extend_Dmat\n",
    "from sklearn.linear_model import LinearRegression"
   ]
  },
  {
   "cell_type": "code",
   "execution_count": 3,
   "metadata": {
    "scrolled": true
   },
   "outputs": [
    {
     "name": "stdout",
     "output_type": "stream",
     "text": [
      "CausalKinetiX  dev  LICENCE  README.md\tsetup.py  usage_example.py\r\n"
     ]
    }
   ],
   "source": [
    "!ls"
   ]
  },
  {
   "cell_type": "code",
   "execution_count": 4,
   "metadata": {},
   "outputs": [
    {
     "name": "stdout",
     "output_type": "stream",
     "text": [
      "BSbasis.py\t\t       generate_data_hidden.py\t     ode_solver.py\r\n",
      "CausalKinetiX_modelranking.py  generate_data_maillard.py     __pycache__\r\n",
      "CausalKinetiX.py\t       generate_data_targetmodel.py  utils.py\r\n",
      "constrained_smoothspline.py    __init__.py\r\n"
     ]
    }
   ],
   "source": [
    "!ls CausalKinetiX"
   ]
  },
  {
   "cell_type": "markdown",
   "metadata": {},
   "source": [
    "# Target Model"
   ]
  },
  {
   "cell_type": "code",
   "execution_count": 5,
   "metadata": {},
   "outputs": [
    {
     "data": {
      "text/plain": [
       "<matplotlib.legend.Legend at 0x7f5901e486d8>"
      ]
     },
     "execution_count": 5,
     "metadata": {},
     "output_type": "execute_result"
    },
    {
     "data": {
      "image/png": "[encoded data removed]",
      "text/plain": [
       "<Figure size 432x288 with 1 Axes>"
      ]
     },
     "metadata": {},
     "output_type": "display_data"
    }
   ],
   "source": [
    "simulation_obj = generate_data_targetmodel(env=np.array(list(range(5))*3),\n",
    "                                            L=15,\n",
    "                                            d=5,\n",
    "                                            noise_sd=0.01)\n",
    "D = simulation_obj[\"simulated_data\"]\n",
    "true_model = simulation_obj[\"true_model\"]\n",
    "time = simulation_obj[\"time\"]\n",
    "env = simulation_obj[\"env\"]\n",
    "target = simulation_obj[\"target\"]\n",
    "# plot the observation of target variable in environment 0\n",
    "plt.plot(time, D[0,-len(time):], '-',c=\"black\")\n",
    "plt.plot(time, D[0,-len(time):], 'o',c=\"red\")\n",
    "plt.legend([\"observations\"])\n"
   ]
  },
  {
   "cell_type": "code",
   "execution_count": 6,
   "metadata": {},
   "outputs": [
    {
     "data": {
      "text/plain": [
       "{'models': [[[0], [1], [2]],\n",
       "  [[0], [1], [3]],\n",
       "  [[0], [1], [4]],\n",
       "  [[0], [2], [3]],\n",
       "  [[0], [2], [4]],\n",
       "  [[0], [3], [4]],\n",
       "  [[1], [2], [3]],\n",
       "  [[1], [2], [4]],\n",
       "  [[1], [3], [4]],\n",
       "  [[2], [3], [4]]],\n",
       " 'model_scores': array([3.59565111, 3.60074263, 3.60486343, 3.45915191, 3.11467047,\n",
       "        2.98209964, 3.52038097, 3.41177319, 3.35419465, 3.17746959]),\n",
       " 'variable_scores': array([0.        , 0.16666667, 0.16666667, 0.16666667, 0.96666667]),\n",
       " 'ranking': array([4, 0, 2, 3, 1])}"
      ]
     },
     "execution_count": 6,
     "metadata": {},
     "output_type": "execute_result"
    }
   ],
   "source": [
    "CausalKinetiX(D = D, times = time, env=env, target = target)"
   ]
  },
  {
   "cell_type": "code",
   "execution_count": 11,
   "metadata": {
    "scrolled": false
   },
   "outputs": [
    {
     "data": {
      "text/plain": [
       "array([3.59730232])"
      ]
     },
     "execution_count": 11,
     "metadata": {},
     "output_type": "execute_result"
    }
   ],
   "source": [
    "CausalKinetiX_modelranking(D, time, env, target, [[[0],[1],[0,1]]])#, regression_class='random_forest')"
   ]
  },
  {
   "cell_type": "code",
   "execution_count": 12,
   "metadata": {},
   "outputs": [],
   "source": [
    "fit = constrained_smoothspline(D[1,60:],\n",
    "                                          time,\n",
    "                                          2,\n",
    "                                          constraint=\"none\",\n",
    "                                          times_new=np.linspace(0,10,1001),\n",
    "                                          num_folds=2,\n",
    "                                          lambd=\"optim\")"
   ]
  },
  {
   "cell_type": "code",
   "execution_count": 13,
   "metadata": {},
   "outputs": [
    {
     "data": {
      "text/plain": [
       "[<matplotlib.lines.Line2D at 0x7f59013106a0>]"
      ]
     },
     "execution_count": 13,
     "metadata": {},
     "output_type": "execute_result"
    },
    {
     "data": {
      "image/png": "[encoded data removed]",
      "text/plain": [
       "<Figure size 432x288 with 1 Axes>"
      ]
     },
     "metadata": {},
     "output_type": "display_data"
    }
   ],
   "source": [
    "plt.plot(time, D[1,60:], 'o')\n",
    "plt.plot(np.linspace(0,10,1001), fit[\"smooth_vals_new\"])"
   ]
  },
  {
   "cell_type": "markdown",
   "metadata": {},
   "source": [
    "# Maillard Model"
   ]
  },
  {
   "cell_type": "code",
   "execution_count": 14,
   "metadata": {},
   "outputs": [
    {
     "name": "stdout",
     "output_type": "stream",
     "text": [
      "Currently solving ODE-system on environment 0\n",
      "Currently solving ODE-system on environment 1\n",
      "Currently solving ODE-system on environment 2\n",
      "Currently solving ODE-system on environment 3\n",
      "Currently solving ODE-system on environment 4\n"
     ]
    },
    {
     "data": {
      "text/plain": [
       "[[0], [1], [0, 9]]"
      ]
     },
     "execution_count": 14,
     "metadata": {},
     "output_type": "execute_result"
    },
    {
     "data": {
      "image/png": "[encoded data removed]",
      "text/plain": [
       "<Figure size 432x288 with 1 Axes>"
      ]
     },
     "metadata": {},
     "output_type": "display_data"
    }
   ],
   "source": [
    "simulation_obj = generate_data_maillard(env=np.array(list(range(5))*3),\n",
    "                                        L=15,\n",
    "                                        target=0)\n",
    "D = simulation_obj[\"simulated_data\"]\n",
    "time = simulation_obj[\"time\"]\n",
    "env = simulation_obj[\"env\"]\n",
    "target = simulation_obj[\"target\"]\n",
    "# plot the observation of target variable in environment 0\n",
    "plt.plot(time, D[0,-len(time):], '-',c=\"black\")\n",
    "plt.plot(time, D[0,-len(time):], 'o',c=\"red\")\n",
    "plt.legend([\"observations\"])\n",
    "\n",
    "simulation_obj[\"true_model\"]"
   ]
  },
  {
   "cell_type": "markdown",
   "metadata": {},
   "source": [
    "CausalKinetiX(D = D, times = time, env=env, target = target, interactions=True, products=True)"
   ]
  },
  {
   "cell_type": "markdown",
   "metadata": {},
   "source": [
    "# Hidden Model"
   ]
  },
  {
   "cell_type": "code",
   "execution_count": 15,
   "metadata": {
    "scrolled": false
   },
   "outputs": [
    {
     "name": "stdout",
     "output_type": "stream",
     "text": [
      "Currently solving ODE-system on environment 0\n",
      "Currently solving ODE-system on environment 1\n",
      "Currently solving ODE-system on environment 2\n",
      "Currently solving ODE-system on environment 3\n",
      "Currently solving ODE-system on environment 4\n"
     ]
    },
    {
     "data": {
      "text/plain": [
       "[[2]]"
      ]
     },
     "execution_count": 15,
     "metadata": {},
     "output_type": "execute_result"
    },
    {
     "data": {
      "image/png": "[encoded data removed]",
      "text/plain": [
       "<Figure size 432x288 with 1 Axes>"
      ]
     },
     "metadata": {},
     "output_type": "display_data"
    }
   ],
   "source": [
    "simulation_obj = generate_data_hidden(env=np.array(list(range(5))*3),\n",
    "                                       L=15,\n",
    "                                       noise_sd=0.01,\n",
    "                                       only_target_noise=False,\n",
    "                                       relativ=True,\n",
    "                                       intervention=\"initial_blockreactions\",\n",
    "                                       intervention_par=0.2)\n",
    "D = simulation_obj[\"simulated_data\"]\n",
    "time = simulation_obj[\"time\"]\n",
    "env = simulation_obj[\"env\"]\n",
    "target = simulation_obj[\"target\"]\n",
    "# plot the observation of target variable in environment 0\n",
    "plt.plot(time, D[0,-len(time):], '-',c=\"black\")\n",
    "plt.plot(time, D[0,-len(time):], 'o',c=\"red\")\n",
    "plt.legend([\"observations\"])\n",
    "\n",
    "simulation_obj[\"true_model\"]"
   ]
  },
  {
   "cell_type": "code",
   "execution_count": 17,
   "metadata": {},
   "outputs": [
    {
     "data": {
      "text/plain": [
       "{'models': [[[0], [1], [2]],\n",
       "  [[0], [1], [3]],\n",
       "  [[0], [1], [4]],\n",
       "  [[0], [1], [5]],\n",
       "  [[0], [1], [6]],\n",
       "  [[0], [2], [3]],\n",
       "  [[0], [2], [4]],\n",
       "  [[0], [2], [5]],\n",
       "  [[0], [2], [6]],\n",
       "  [[0], [3], [4]],\n",
       "  [[0], [3], [5]],\n",
       "  [[0], [3], [6]],\n",
       "  [[0], [4], [5]],\n",
       "  [[0], [4], [6]],\n",
       "  [[0], [5], [6]],\n",
       "  [[1], [2], [3]],\n",
       "  [[1], [2], [4]],\n",
       "  [[1], [2], [5]],\n",
       "  [[1], [2], [6]],\n",
       "  [[1], [3], [4]],\n",
       "  [[1], [3], [5]],\n",
       "  [[1], [3], [6]],\n",
       "  [[1], [4], [5]],\n",
       "  [[1], [4], [6]],\n",
       "  [[1], [5], [6]],\n",
       "  [[2], [3], [4]],\n",
       "  [[2], [3], [5]],\n",
       "  [[2], [3], [6]],\n",
       "  [[2], [4], [5]],\n",
       "  [[2], [4], [6]],\n",
       "  [[2], [5], [6]],\n",
       "  [[3], [4], [5]],\n",
       "  [[3], [4], [6]],\n",
       "  [[3], [5], [6]],\n",
       "  [[4], [5], [6]]],\n",
       " 'model_scores': array([2.86007921, 3.44640957, 3.19282857, 4.41638724, 3.6839919 ,\n",
       "        2.96759943, 3.46902752, 2.91955715, 3.31971576, 4.24432487,\n",
       "        3.46521521, 2.69102076, 3.38778681, 2.7942406 , 3.61506961,\n",
       "        2.78950248, 2.84722214, 2.91894669, 2.87717237, 3.50286551,\n",
       "        4.55897605, 3.12727778, 2.77074017, 2.74469027, 4.14971166,\n",
       "        3.0819457 , 2.93649145, 2.75048608, 2.9356185 , 3.07490062,\n",
       "        2.91145612, 3.75001669, 2.85197198, 3.28143488, 2.88114167]),\n",
       " 'variable_scores': array([0.0933457 , 0.0933457 , 0.0933457 , 0.35964723, 0.35964723,\n",
       "        0.72837243, 0.72837243]),\n",
       " 'ranking': array([1, 3, 6, 2, 4, 0, 5])}"
      ]
     },
     "execution_count": 17,
     "metadata": {},
     "output_type": "execute_result"
    }
   ],
   "source": [
    "# the simulated_obj[\"true_model\"] seems to be incorrect\n",
    "# true model is [[0],[6]]\n",
    "CausalKinetiX(D = D, times = time, env=env, target = target)"
   ]
  },
  {
   "cell_type": "markdown",
   "metadata": {},
   "source": [
    "# ODEFIT"
   ]
  },
  {
   "cell_type": "code",
   "execution_count": 18,
   "metadata": {
    "scrolled": false
   },
   "outputs": [
    {
     "name": "stdout",
     "output_type": "stream",
     "text": [
      "Currently solving ODE-system on environment 0\n",
      "Currently solving ODE-system on environment 1\n",
      "Currently solving ODE-system on environment 2\n",
      "Currently solving ODE-system on environment 3\n",
      "Currently solving ODE-system on environment 4\n",
      "target: 1\n",
      "true_model: [[0], [1], [1, 9]]\n"
     ]
    },
    {
     "data": {
      "image/png": "[encoded data removed]",
      "text/plain": [
       "<Figure size 432x288 with 1 Axes>"
      ]
     },
     "metadata": {},
     "output_type": "display_data"
    }
   ],
   "source": [
    "## Generate data from Maillard reaction\n",
    "simulation_obj = generate_data_maillard(target=1, noise_sd=0.5, \n",
    "                                         env=np.array(list(range(5))*3),\n",
    "                                         L=20)\n",
    "D = simulation_obj[\"simulated_data\"]\n",
    "time = simulation_obj[\"time\"]\n",
    "env = simulation_obj[\"env\"]\n",
    "target = simulation_obj[\"target\"]\n",
    "true_model = simulation_obj[\"true_model\"]\n",
    "print(\"target: {}\\ntrue_model: {}\".format(target, true_model))\n",
    "for i in range(5):\n",
    "    plt.plot(time, D[i, target*20:(target+1)*20])"
   ]
  },
  {
   "cell_type": "code",
   "execution_count": 20,
   "metadata": {
    "scrolled": false
   },
   "outputs": [
    {
     "data": {
      "text/plain": [
       "array([90751.65771366])"
      ]
     },
     "execution_count": 20,
     "metadata": {},
     "output_type": "execute_result"
    }
   ],
   "source": [
    "CausalKinetiX_modelranking(D, time, env, target, [true_model])"
   ]
  },
  {
   "cell_type": "code",
   "execution_count": 21,
   "metadata": {
    "scrolled": true
   },
   "outputs": [
    {
     "data": {
      "text/plain": [
       "[<matplotlib.lines.Line2D at 0x7f59019cf5f8>]"
      ]
     },
     "execution_count": 21,
     "metadata": {},
     "output_type": "execute_result"
    },
    {
     "data": {
      "image/png": "[encoded data removed]",
      "text/plain": [
       "<Figure size 432x288 with 1 Axes>"
      ]
     },
     "metadata": {},
     "output_type": "display_data"
    }
   ],
   "source": [
    "### Estimate dY (derivative) by spline\n",
    "X = D[0:5,:].reshape([5, 11, len(time)])\n",
    "X = X.swapaxes(0,1)\n",
    "X = X.reshape([11, 5*len(time)]).T\n",
    "times = np.array(list(time)*5)\n",
    "dY = np.zeros([5*len(time)])\n",
    "for j in range(5):\n",
    "    dY[j*len(time):(j+1)*len(time)] = \\\n",
    "        constrained_smoothspline(X[j*len(time):(j+1)*len(time),target],\n",
    "                                 time,\n",
    "                                 2,\n",
    "                                 constraint=\"none\",\n",
    "                                 times_new=time,\n",
    "                                 num_folds=2,\n",
    "                                 lambd=\"optim\")[\"smooth_deriv\"]\n",
    "\n",
    "### Estimate coefficients based on true true_model\n",
    "X_ = np.zeros([5*len(time), len(true_model)])\n",
    "for term, i in zip(true_model, range(len(true_model))):\n",
    "    tmp_col = 1\n",
    "    for var in term: \n",
    "        tmp_col *= X[:,var]\n",
    "    X_[:, i] = tmp_col\n",
    "coef = LinearRegression(fit_intercept=False).fit(X_, dY).coef_\n",
    "\n",
    "# coefficients of the maillard model with \"target=0\"\n",
    "# theta=np.array([0.01, 0.00509, 0.00047, 0.0011, 0.00712, 0.00439, 0.00018, 0.11134, 0.14359, 0.00015, 0.12514])\n",
    "# coef=[theta[0], -(theta[1]+theta[3]+theta[4]), -theta[9]]\n",
    "# coef\n",
    "\n",
    "## Solve for Melanoidin\n",
    "odefit = ode_solver(time_vec=time, \n",
    "                    initial_value=X_[0,[target]], \n",
    "                    times=time, \n",
    "                    X=X[:len(time),:], \n",
    "                    model=true_model, \n",
    "                    target=target, \n",
    "                    coefs=coef)\n",
    "\n",
    "# plot the \n",
    "plt.plot(odefit[:,0], odefit[:,1], '-')\n",
    "plt.plot(time, X[:len(time),target], 'o')"
   ]
  },
  {
   "cell_type": "code",
   "execution_count": null,
   "metadata": {},
   "outputs": [],
   "source": []
  },
  {
   "cell_type": "code",
   "execution_count": null,
   "metadata": {},
   "outputs": [],
   "source": []
  }
 ],
 "metadata": {
  "kernelspec": {
   "display_name": "Python 3",
   "language": "python",
   "name": "python3"
  },
  "language_info": {
   "codemirror_mode": {
    "name": "ipython",
    "version": 3
   },
   "file_extension": ".py",
   "mimetype": "text/x-python",
   "name": "python",
   "nbconvert_exporter": "python",
   "pygments_lexer": "ipython3",
   "version": "3.6.8"
  }
 },
 "nbformat": 4,
 "nbformat_minor": 2
}
